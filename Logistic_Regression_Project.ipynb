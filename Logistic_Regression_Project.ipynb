{
 "cells": [
  {
   "cell_type": "markdown",
   "metadata": {},
   "source": [
    "# Logistic Regression Project\n",
    "\n",
    "There is a fake advertising data set, indicating whether or not a particular internet user clicked on an Advertisement on a company website. An attempt is made to create a model that will predict whether or not they will click on an ad based off the features of that user.\n",
    "\n",
    "This data set contains the following features:\n",
    "\n",
    "* 'Daily Time Spent on Site': consumer time on site in minutes\n",
    "* 'Age': cutomer age in years\n",
    "* 'Area Income': Avg. Income of geographical area of consumer\n",
    "* 'Daily Internet Usage': Avg. minutes a day consumer is on the internet\n",
    "* 'Ad Topic Line': Headline of the advertisement\n",
    "* 'City': City of consumer\n",
    "* 'Male': Whether or not consumer was male\n",
    "* 'Country': Country of consumer\n",
    "* 'Timestamp': Time at which consumer clicked on Ad or closed window\n",
    "* 'Clicked on Ad': 0 or 1 indicated clicking on Ad"
   ]
  },
  {
   "cell_type": "code",
   "execution_count": 1,
   "metadata": {},
   "outputs": [],
   "source": [
    "import pandas as pd\n",
    "import numpy as np\n",
    "import matplotlib.pyplot as plt\n",
    "import seaborn as sns\n",
    "%matplotlib inline"
   ]
  },
  {
   "cell_type": "code",
   "execution_count": null,
   "metadata": {},
   "outputs": [],
   "source": [
    "ad_data = pd.read_csv('advertising.csv')"
   ]
  }
 ],
 "metadata": {
  "kernelspec": {
   "display_name": "Python 3",
   "language": "python",
   "name": "python3"
  },
  "language_info": {
   "codemirror_mode": {
    "name": "ipython",
    "version": 3
   },
   "file_extension": ".py",
   "mimetype": "text/x-python",
   "name": "python",
   "nbconvert_exporter": "python",
   "pygments_lexer": "ipython3",
   "version": "3.7.2"
  }
 },
 "nbformat": 4,
 "nbformat_minor": 2
}
